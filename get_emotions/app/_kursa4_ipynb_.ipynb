{
  "nbformat": 4,
  "nbformat_minor": 0,
  "metadata": {
    "colab": {
      "provenance": []
    },
    "kernelspec": {
      "name": "python3",
      "display_name": "Python 3"
    },
    "language_info": {
      "name": "python"
    },
    "accelerator": "GPU",
    "gpuClass": "standard"
  },
  "cells": [
    {
      "cell_type": "code",
      "execution_count": 1,
      "metadata": {
        "colab": {
          "base_uri": "https://localhost:8080/"
        },
        "id": "UNQd54hv8J5h",
        "outputId": "10bea74d-83b8-4f6c-de8c-181a0681df3d"
      },
      "outputs": [
        {
          "output_type": "stream",
          "name": "stdout",
          "text": [
            "Mounted at /content/gdrive\n"
          ]
        }
      ],
      "source": [
        "from google.colab import drive\n",
        "drive.mount('/content/gdrive')"
      ]
    },
    {
      "cell_type": "code",
      "source": [
        "from zipfile import ZipFile as s"
      ],
      "metadata": {
        "id": "3e-_QkrJ8MsM"
      },
      "execution_count": 2,
      "outputs": []
    },
    {
      "cell_type": "code",
      "source": [
        "\n",
        "file_name = '/content/gdrive/MyDrive/fer2013.zip'\n",
        "\n",
        "with s(file_name, 'r') as zi:\n",
        "  zi.extractall()\n",
        "  print('Done')"
      ],
      "metadata": {
        "colab": {
          "base_uri": "https://localhost:8080/"
        },
        "id": "izewXvnw-OWt",
        "outputId": "8264344a-b609-4c01-854a-b3dc77b057d3"
      },
      "execution_count": 3,
      "outputs": [
        {
          "output_type": "stream",
          "name": "stdout",
          "text": [
            "Done\n"
          ]
        }
      ]
    },
    {
      "cell_type": "code",
      "source": [
        "\n",
        "file_name = '/content/gdrive/MyDrive/fer2013.csv.zip'\n",
        "\n",
        "with s(file_name, 'r') as zi:\n",
        "  zi.extractall()\n",
        "  print('Done')"
      ],
      "metadata": {
        "colab": {
          "base_uri": "https://localhost:8080/"
        },
        "id": "DX1X_NOkBpzY",
        "outputId": "0a995b3d-7166-4736-876b-22ea433956d2"
      },
      "execution_count": 4,
      "outputs": [
        {
          "output_type": "stream",
          "name": "stdout",
          "text": [
            "Done\n"
          ]
        }
      ]
    },
    {
      "cell_type": "code",
      "source": [
        "import pandas as pd\n",
        "import os"
      ],
      "metadata": {
        "id": "x03lIwlo8Mwh"
      },
      "execution_count": 6,
      "outputs": []
    },
    {
      "cell_type": "code",
      "source": [
        "from tensorflow.keras.models import Sequential\n",
        "from tensorflow.keras.layers import Dense, Activation, Conv2D, Flatten, Dropout, MaxPooling2D, BatchNormalization, Conv3D, MaxPooling3D\n",
        "from tensorflow.keras.preprocessing.image import ImageDataGenerator\n",
        "from keras import regularizers, optimizers\n",
        "import os\n",
        "import numpy as np\n",
        "import matplotlib.pyplot as plt\n",
        "import pandas as pd\n",
        "import tensorflow as tf"
      ],
      "metadata": {
        "id": "3vTF3YThjkfc"
      },
      "execution_count": 7,
      "outputs": []
    },
    {
      "cell_type": "code",
      "source": [
        "train_datagen=ImageDataGenerator(rescale=1./255.,horizontal_flip=True, vertical_flip=True, rotation_range=60, zoom_range=0.3)\n",
        "\n",
        "train_generator = train_datagen.flow_from_directory(\n",
        "    directory=r\"/content/data/train\",\n",
        "    target_size=(48, 48),\n",
        "    color_mode=\"grayscale\",\n",
        "    batch_size=128,\n",
        "    class_mode=\"categorical\",\n",
        "    shuffle=True,\n",
        "    seed=42\n",
        ")"
      ],
      "metadata": {
        "colab": {
          "base_uri": "https://localhost:8080/"
        },
        "id": "Lp0lLq6f-mSS",
        "outputId": "576f8317-7950-4d26-979f-6248dd674345"
      },
      "execution_count": 8,
      "outputs": [
        {
          "output_type": "stream",
          "name": "stdout",
          "text": [
            "Found 28709 images belonging to 7 classes.\n"
          ]
        }
      ]
    },
    {
      "cell_type": "code",
      "source": [
        "test_datagen=ImageDataGenerator(rescale=1./255.)\n",
        "\n",
        "test_generator = test_datagen.flow_from_directory(\n",
        "    directory=r\"/content/data/test\",\n",
        "    target_size=(48, 48),\n",
        "    color_mode=\"rgb\",\n",
        "    batch_size=128,\n",
        "    class_mode='categorical',\n",
        "    shuffle=False,\n",
        "    seed=42\n",
        ")"
      ],
      "metadata": {
        "colab": {
          "base_uri": "https://localhost:8080/"
        },
        "id": "YlmGCFuM5Usq",
        "outputId": "73913617-2e2e-42bc-8162-d08e7d387ae9"
      },
      "execution_count": 90,
      "outputs": [
        {
          "output_type": "stream",
          "name": "stdout",
          "text": [
            "Found 3589 images belonging to 7 classes.\n"
          ]
        }
      ]
    },
    {
      "cell_type": "code",
      "source": [
        "val_datagen = ImageDataGenerator(rescale=1./255)\n",
        "val_set = val_datagen.flow_from_directory('/content/data/val',\n",
        "                                                batch_size=64,\n",
        "                                                target_size=(48,48),\n",
        "                                                shuffle=True,\n",
        "                                                color_mode='grayscale',\n",
        "                                                class_mode='categorical')"
      ],
      "metadata": {
        "colab": {
          "base_uri": "https://localhost:8080/"
        },
        "id": "yQ4Rapfu-mUk",
        "outputId": "190a8786-1759-4aed-9ef3-d6cd32879f9f"
      },
      "execution_count": 10,
      "outputs": [
        {
          "output_type": "stream",
          "name": "stdout",
          "text": [
            "Found 3589 images belonging to 7 classes.\n"
          ]
        }
      ]
    },
    {
      "cell_type": "code",
      "source": [
        "batch_size = 128"
      ],
      "metadata": {
        "id": "lMdW_cJ-kM2r"
      },
      "execution_count": 11,
      "outputs": []
    },
    {
      "cell_type": "code",
      "source": [
        "\n",
        "from keras.preprocessing import image\n",
        "#from keras.applications.resnet50 import preprocess_input, decode_predictions\n",
        "from keras.layers import Dense, GlobalAveragePooling2D\n",
        "from keras.models import Model\n",
        "from keras.optimizers import Adam\n",
        "from keras.utils import to_categorical\n"
      ],
      "metadata": {
        "id": "CcFjerkT9V0Q"
      },
      "execution_count": 9,
      "outputs": []
    },
    {
      "cell_type": "code",
      "source": [
        "base_model = tf.keras.applications.resnet50.ResNet50(weights= None, include_top=False )"
      ],
      "metadata": {
        "id": "Q4jwe7fCi1GQ"
      },
      "execution_count": 31,
      "outputs": []
    },
    {
      "cell_type": "code",
      "source": [
        "# for layer in base_model.layers:\n",
        "#     layer.trainable = False"
      ],
      "metadata": {
        "id": "eQCesKxp0hVd"
      },
      "execution_count": 22,
      "outputs": []
    },
    {
      "cell_type": "code",
      "source": [
        "x = base_model.output"
      ],
      "metadata": {
        "id": "o_N5aBaMi1IS"
      },
      "execution_count": 19,
      "outputs": []
    },
    {
      "cell_type": "code",
      "source": [
        "# x = base_model.output\n",
        "# x = GlobalAveragePooling2D()(x)\n",
        "# x = Dropout(0.7)(x)"
      ],
      "metadata": {
        "id": "xPD7h6DIjtAP"
      },
      "execution_count": null,
      "outputs": []
    },
    {
      "cell_type": "code",
      "source": [
        "x = Dense(64, activation='relu')(x)"
      ],
      "metadata": {
        "id": "SLGuC_9vGwQV"
      },
      "execution_count": 20,
      "outputs": []
    },
    {
      "cell_type": "code",
      "source": [
        "predictions = Dense(7, activation= 'softmax')(x)\n"
      ],
      "metadata": {
        "id": "CERB5rQhjkiZ"
      },
      "execution_count": 32,
      "outputs": []
    },
    {
      "cell_type": "code",
      "source": [
        "model = tf.keras.Model(inputs = base_model.input, outputs = predictions)\n"
      ],
      "metadata": {
        "id": "r5NlBIzdjdP9"
      },
      "execution_count": 33,
      "outputs": []
    },
    {
      "cell_type": "code",
      "source": [
        "#model.summary()"
      ],
      "metadata": {
        "id": "jUGnqDJbkCpo"
      },
      "execution_count": null,
      "outputs": []
    },
    {
      "cell_type": "code",
      "source": [],
      "metadata": {
        "id": "pNfXpfTu8_bb"
      },
      "execution_count": null,
      "outputs": []
    },
    {
      "cell_type": "code",
      "source": [
        "model.compile(optimizer=optimizers.Adam(lr=0.0001, decay=1e-6),\n",
        "              loss='categorical_crossentropy',\n",
        "              metrics=['accuracy'])"
      ],
      "metadata": {
        "colab": {
          "base_uri": "https://localhost:8080/"
        },
        "id": "b5LAGPiikDCu",
        "outputId": "89dd6a22-466d-4d6f-c8da-e16bd3cd3244"
      },
      "execution_count": 34,
      "outputs": [
        {
          "output_type": "stream",
          "name": "stderr",
          "text": [
            "/usr/local/lib/python3.8/dist-packages/keras/optimizers/optimizer_v2/adam.py:110: UserWarning: The `lr` argument is deprecated, use `learning_rate` instead.\n",
            "  super(Adam, self).__init__(name, **kwargs)\n"
          ]
        }
      ]
    },
    {
      "cell_type": "code",
      "source": [
        "history = model.fit(\n",
        "        train_generator,\n",
        "        validation_data = val_set,     \n",
        "        epochs=10,  \n",
        "        batch_size=batch_size ,          \n",
        "        )"
      ],
      "metadata": {
        "id": "OysZuKW340Bd"
      },
      "execution_count": null,
      "outputs": []
    },
    {
      "cell_type": "code",
      "source": [],
      "metadata": {
        "id": "qP5lVLFyeYSA"
      },
      "execution_count": null,
      "outputs": []
    },
    {
      "cell_type": "code",
      "source": [],
      "metadata": {
        "id": "8zaudq3deYUf"
      },
      "execution_count": null,
      "outputs": []
    },
    {
      "cell_type": "code",
      "source": [
        "!unzip /content/model_weights_vgg16.h5.zip\n"
      ],
      "metadata": {
        "colab": {
          "base_uri": "https://localhost:8080/"
        },
        "id": "IE75sk1IeYWw",
        "outputId": "23772e9d-43d8-481c-b1ab-e5ffb7bc0e4b"
      },
      "execution_count": 41,
      "outputs": [
        {
          "output_type": "stream",
          "name": "stdout",
          "text": [
            "Archive:  /content/model_weights_vgg16.h5.zip\n",
            "  inflating: model_weights_vgg16.h5  \n"
          ]
        }
      ]
    },
    {
      "cell_type": "code",
      "source": [],
      "metadata": {
        "id": "lxMLLZQOjMZZ"
      },
      "execution_count": null,
      "outputs": []
    },
    {
      "cell_type": "code",
      "source": [
        "vgg_model = tf.keras.applications.vgg16.VGG16(weights=None, input_shape= (48,48, 1))"
      ],
      "metadata": {
        "id": "gcUD6MkALu5Q"
      },
      "execution_count": null,
      "outputs": []
    },
    {
      "cell_type": "code",
      "source": [],
      "metadata": {
        "id": "YDeJdGH1jLc6"
      },
      "execution_count": null,
      "outputs": []
    },
    {
      "cell_type": "code",
      "source": [
        "x = vgg_model.output\n",
        "predictions = Dense(7, activation= 'softmax')(x)\n"
      ],
      "metadata": {
        "id": "Q8K1HzNCLu7Z"
      },
      "execution_count": null,
      "outputs": []
    },
    {
      "cell_type": "code",
      "source": [
        "model_vgg = tf.keras.Model(inputs = vgg_model.input, outputs = predictions)\n"
      ],
      "metadata": {
        "id": "BAVMBBefLu91"
      },
      "execution_count": null,
      "outputs": []
    },
    {
      "cell_type": "code",
      "source": [
        "model_vgg.compile(optimizer=optimizers.Adam(lr=0.0001, decay=1e-6),\n",
        "              loss='categorical_crossentropy',\n",
        "              metrics=['accuracy'])"
      ],
      "metadata": {
        "colab": {
          "base_uri": "https://localhost:8080/"
        },
        "id": "OFuHT-S1Lu_6",
        "outputId": "c9b98efe-89a4-45ce-c093-8606bdae4054"
      },
      "execution_count": null,
      "outputs": [
        {
          "output_type": "stream",
          "name": "stderr",
          "text": [
            "/usr/local/lib/python3.8/dist-packages/keras/optimizers/optimizer_v2/adam.py:110: UserWarning: The `lr` argument is deprecated, use `learning_rate` instead.\n",
            "  super(Adam, self).__init__(name, **kwargs)\n"
          ]
        }
      ]
    },
    {
      "cell_type": "code",
      "source": [
        "history1 = model_vgg.fit(\n",
        "        train_generator,\n",
        "        validation_data = val_set,     \n",
        "        epochs=10,  \n",
        "        batch_size=batch_size     \n",
        "        )"
      ],
      "metadata": {
        "colab": {
          "base_uri": "https://localhost:8080/"
        },
        "id": "l9YIiIEwLvDk",
        "outputId": "59b54d70-a763-4ded-cd84-a4e12386c51c"
      },
      "execution_count": null,
      "outputs": [
        {
          "output_type": "stream",
          "name": "stdout",
          "text": [
            "Epoch 1/10\n",
            "225/225 [==============================] - 32s 128ms/step - loss: 1.9297 - accuracy: 0.2503 - val_loss: 1.9183 - val_accuracy: 0.2494\n",
            "Epoch 2/10\n",
            "225/225 [==============================] - 26s 117ms/step - loss: 1.9135 - accuracy: 0.2513 - val_loss: 1.9077 - val_accuracy: 0.2494\n",
            "Epoch 3/10\n",
            "225/225 [==============================] - 26s 115ms/step - loss: 1.9036 - accuracy: 0.2513 - val_loss: 1.8986 - val_accuracy: 0.2494\n",
            "Epoch 4/10\n",
            "225/225 [==============================] - 26s 116ms/step - loss: 1.8950 - accuracy: 0.2513 - val_loss: 1.8907 - val_accuracy: 0.2494\n",
            "Epoch 5/10\n",
            "225/225 [==============================] - 26s 117ms/step - loss: 1.8874 - accuracy: 0.2513 - val_loss: 1.8837 - val_accuracy: 0.2494\n",
            "Epoch 6/10\n",
            "225/225 [==============================] - 26s 116ms/step - loss: 1.8806 - accuracy: 0.2513 - val_loss: 1.8774 - val_accuracy: 0.2494\n",
            "Epoch 7/10\n",
            "225/225 [==============================] - 26s 116ms/step - loss: 1.8745 - accuracy: 0.2513 - val_loss: 1.8718 - val_accuracy: 0.2494\n",
            "Epoch 8/10\n",
            "225/225 [==============================] - 26s 116ms/step - loss: 1.8691 - accuracy: 0.2513 - val_loss: 1.8667 - val_accuracy: 0.2494\n",
            "Epoch 9/10\n",
            "225/225 [==============================] - 26s 116ms/step - loss: 1.8641 - accuracy: 0.2513 - val_loss: 1.8621 - val_accuracy: 0.2494\n",
            "Epoch 10/10\n",
            "225/225 [==============================] - 26s 116ms/step - loss: 1.8597 - accuracy: 0.2513 - val_loss: 1.8579 - val_accuracy: 0.2494\n"
          ]
        }
      ]
    },
    {
      "cell_type": "code",
      "source": [
        "ef_model = tf.keras.applications.EfficientNetB1(weights=None, input_shape= (48,48, 1))"
      ],
      "metadata": {
        "id": "kP5OVKrZMhPP"
      },
      "execution_count": null,
      "outputs": []
    },
    {
      "cell_type": "code",
      "source": [
        "x = ef_model.output\n",
        "predictions = Dense(7, activation= 'softmax')(x)\n",
        "model_ef = tf.keras.Model(inputs = ef_model.input, outputs = predictions)\n"
      ],
      "metadata": {
        "id": "XCT7_TilMhRl"
      },
      "execution_count": null,
      "outputs": []
    },
    {
      "cell_type": "code",
      "source": [
        "model_ef.compile(optimizer=optimizers.Adam(lr=0.0001, decay=1e-6),\n",
        "              loss='categorical_crossentropy',\n",
        "              metrics=['accuracy'])"
      ],
      "metadata": {
        "colab": {
          "base_uri": "https://localhost:8080/"
        },
        "id": "8hMBDnIcMhUB",
        "outputId": "99245971-4609-4d51-954e-7dfdcf6240d0"
      },
      "execution_count": null,
      "outputs": [
        {
          "output_type": "stream",
          "name": "stderr",
          "text": [
            "/usr/local/lib/python3.8/dist-packages/keras/optimizers/optimizer_v2/adam.py:110: UserWarning: The `lr` argument is deprecated, use `learning_rate` instead.\n",
            "  super(Adam, self).__init__(name, **kwargs)\n"
          ]
        }
      ]
    },
    {
      "cell_type": "code",
      "source": [
        "history2 = model_ef.fit(\n",
        "        train_generator,\n",
        "        validation_data = val_set,     \n",
        "        epochs=20,  \n",
        "        batch_size=batch_size     \n",
        "        )"
      ],
      "metadata": {
        "colab": {
          "base_uri": "https://localhost:8080/"
        },
        "id": "qE2WrYBGMhWH",
        "outputId": "361242e3-d4e7-4c3f-d4b5-3e2aea84f4e5"
      },
      "execution_count": null,
      "outputs": [
        {
          "output_type": "stream",
          "name": "stdout",
          "text": [
            "Epoch 1/20\n",
            "225/225 [==============================] - 33s 147ms/step - loss: 1.7305 - accuracy: 0.2898 - val_loss: 1.7190 - val_accuracy: 0.2937\n",
            "Epoch 2/20\n",
            "225/225 [==============================] - 33s 146ms/step - loss: 1.7294 - accuracy: 0.2894 - val_loss: 1.7249 - val_accuracy: 0.2956\n",
            "Epoch 3/20\n",
            "225/225 [==============================] - 33s 147ms/step - loss: 1.7252 - accuracy: 0.2921 - val_loss: 1.7499 - val_accuracy: 0.2703\n",
            "Epoch 4/20\n",
            "225/225 [==============================] - 33s 147ms/step - loss: 1.7252 - accuracy: 0.2902 - val_loss: 1.7301 - val_accuracy: 0.2920\n",
            "Epoch 5/20\n",
            "225/225 [==============================] - 34s 149ms/step - loss: 1.7246 - accuracy: 0.2906 - val_loss: 1.7056 - val_accuracy: 0.3023\n",
            "Epoch 6/20\n",
            "225/225 [==============================] - 34s 149ms/step - loss: 1.7234 - accuracy: 0.2921 - val_loss: 1.7092 - val_accuracy: 0.3001\n",
            "Epoch 7/20\n",
            "225/225 [==============================] - 34s 149ms/step - loss: 1.7231 - accuracy: 0.2926 - val_loss: 1.7140 - val_accuracy: 0.2979\n",
            "Epoch 8/20\n",
            "225/225 [==============================] - 33s 149ms/step - loss: 1.7211 - accuracy: 0.2936 - val_loss: 1.7030 - val_accuracy: 0.2995\n",
            "Epoch 9/20\n",
            "225/225 [==============================] - 33s 148ms/step - loss: 1.7180 - accuracy: 0.2950 - val_loss: 1.7094 - val_accuracy: 0.2970\n",
            "Epoch 10/20\n",
            "225/225 [==============================] - 34s 149ms/step - loss: 1.7199 - accuracy: 0.2920 - val_loss: 1.7199 - val_accuracy: 0.2928\n",
            "Epoch 11/20\n",
            "225/225 [==============================] - 33s 148ms/step - loss: 1.7180 - accuracy: 0.2937 - val_loss: 1.7086 - val_accuracy: 0.2987\n",
            "Epoch 12/20\n",
            "225/225 [==============================] - 34s 149ms/step - loss: 1.7153 - accuracy: 0.2959 - val_loss: 1.7056 - val_accuracy: 0.3004\n",
            "Epoch 13/20\n",
            "225/225 [==============================] - 34s 150ms/step - loss: 1.7188 - accuracy: 0.2937 - val_loss: 1.7156 - val_accuracy: 0.2956\n",
            "Epoch 14/20\n",
            "225/225 [==============================] - 33s 148ms/step - loss: 1.7174 - accuracy: 0.2948 - val_loss: 1.6986 - val_accuracy: 0.3023\n",
            "Epoch 15/20\n",
            "225/225 [==============================] - 33s 148ms/step - loss: 1.7154 - accuracy: 0.2959 - val_loss: 1.6896 - val_accuracy: 0.3057\n",
            "Epoch 16/20\n",
            "225/225 [==============================] - 33s 148ms/step - loss: 1.7117 - accuracy: 0.2981 - val_loss: 1.7002 - val_accuracy: 0.3034\n",
            "Epoch 17/20\n",
            "225/225 [==============================] - 33s 148ms/step - loss: 1.7094 - accuracy: 0.2974 - val_loss: 1.7010 - val_accuracy: 0.3040\n",
            "Epoch 18/20\n",
            "225/225 [==============================] - 33s 147ms/step - loss: 1.7113 - accuracy: 0.2965 - val_loss: 1.7012 - val_accuracy: 0.3009\n",
            "Epoch 19/20\n",
            "225/225 [==============================] - 35s 154ms/step - loss: 1.7104 - accuracy: 0.2961 - val_loss: 1.7232 - val_accuracy: 0.2901\n",
            "Epoch 20/20\n",
            "225/225 [==============================] - 34s 149ms/step - loss: 1.7084 - accuracy: 0.2993 - val_loss: 1.7184 - val_accuracy: 0.2923\n"
          ]
        }
      ]
    },
    {
      "cell_type": "code",
      "source": [],
      "metadata": {
        "id": "qnsfgD5ajW9h"
      },
      "execution_count": null,
      "outputs": []
    },
    {
      "cell_type": "code",
      "source": [
        "mn_model = tf.keras.applications.MobileNet(weights=None, include_top=False, input_shape= (48,48, 3))"
      ],
      "metadata": {
        "id": "unjDKMJkMhYK"
      },
      "execution_count": 47,
      "outputs": []
    },
    {
      "cell_type": "code",
      "source": [
        "x = mn_model.output\n",
        "predictions = Dense(7, activation= 'softmax')(x)\n",
        "model_mn = tf.keras.Model(inputs = mn_model.input, outputs = predictions)\n"
      ],
      "metadata": {
        "id": "Z-alGTiaM-Bv"
      },
      "execution_count": 49,
      "outputs": []
    },
    {
      "cell_type": "code",
      "source": [
        "model_mn.compile(optimizer=optimizers.Adam(lr=0.0001, decay=1e-6),\n",
        "              loss='categorical_crossentropy',\n",
        "              metrics=['accuracy'])"
      ],
      "metadata": {
        "colab": {
          "base_uri": "https://localhost:8080/"
        },
        "id": "caeDKFd4M-D-",
        "outputId": "2bd36b52-58fc-4059-fa8f-80dc428b7f46"
      },
      "execution_count": 50,
      "outputs": [
        {
          "output_type": "stream",
          "name": "stderr",
          "text": [
            "/usr/local/lib/python3.8/dist-packages/keras/optimizers/optimizer_v2/adam.py:110: UserWarning: The `lr` argument is deprecated, use `learning_rate` instead.\n",
            "  super(Adam, self).__init__(name, **kwargs)\n"
          ]
        }
      ]
    },
    {
      "cell_type": "code",
      "source": [
        "model_mn.summary()"
      ],
      "metadata": {
        "id": "bdW8CFC0js-B"
      },
      "execution_count": null,
      "outputs": []
    },
    {
      "cell_type": "code",
      "source": [
        "model"
      ],
      "metadata": {
        "id": "JoPRZDJ2jyNQ"
      },
      "execution_count": null,
      "outputs": []
    },
    {
      "cell_type": "code",
      "source": [
        "history3 = model_mn.fit(\n",
        "        train_generator,\n",
        "        validation_data = val_set,     \n",
        "        epochs=30,  \n",
        "        batch_size=batch_size     \n",
        "        )"
      ],
      "metadata": {
        "id": "gmULqtcEM-GH"
      },
      "execution_count": null,
      "outputs": []
    },
    {
      "cell_type": "code",
      "source": [
        "model_mn.predict(test_generator)"
      ],
      "metadata": {
        "colab": {
          "base_uri": "https://localhost:8080/"
        },
        "id": "iw-gtxP-kCDt",
        "outputId": "e7288c99-56e9-49e3-821a-5f4022ca7906"
      },
      "execution_count": 114,
      "outputs": [
        {
          "output_type": "stream",
          "name": "stdout",
          "text": [
            "29/29 [==============================] - 1s 39ms/step\n"
          ]
        },
        {
          "output_type": "execute_result",
          "data": {
            "text/plain": [
              "array([[[[0.15312019, 0.14462271, 0.13035324, ..., 0.1275358 ,\n",
              "          0.16151854, 0.14791377]]],\n",
              "\n",
              "\n",
              "       [[[0.11743845, 0.12712896, 0.14580484, ..., 0.13761283,\n",
              "          0.12717263, 0.19653457]]],\n",
              "\n",
              "\n",
              "       [[[0.14506242, 0.14425403, 0.12797058, ..., 0.1310324 ,\n",
              "          0.15737335, 0.15649256]]],\n",
              "\n",
              "\n",
              "       ...,\n",
              "\n",
              "\n",
              "       [[[0.1461754 , 0.13952896, 0.13900827, ..., 0.11943528,\n",
              "          0.17284171, 0.16509937]]],\n",
              "\n",
              "\n",
              "       [[[0.13276711, 0.1419584 , 0.13739078, ..., 0.13979968,\n",
              "          0.14125797, 0.16408451]]],\n",
              "\n",
              "\n",
              "       [[[0.17021242, 0.14872675, 0.12679935, ..., 0.09949949,\n",
              "          0.17246214, 0.17057748]]]], dtype=float32)"
            ]
          },
          "metadata": {},
          "execution_count": 114
        }
      ]
    },
    {
      "cell_type": "code",
      "source": [
        "from sklearn.metrics import classification_report\n"
      ],
      "metadata": {
        "id": "9dWq3Ftu0qZK"
      },
      "execution_count": 81,
      "outputs": []
    },
    {
      "cell_type": "code",
      "source": [
        "Y_test = np.argmax(y_test, axis=1) # Convert one-hot to index\n",
        "y_pred = model.predict_classes(x_test)\n",
        "print(classification_report(Y_test, y_pred))"
      ],
      "metadata": {
        "id": "GIxAqDnx0qbf"
      },
      "execution_count": null,
      "outputs": []
    },
    {
      "cell_type": "code",
      "source": [
        "y_pred = model_mn.predict(test_generator)\n",
        "y_pred = np.argmax(y_pred, axis=-1)"
      ],
      "metadata": {
        "colab": {
          "base_uri": "https://localhost:8080/"
        },
        "id": "iKgglm3A0qdt",
        "outputId": "7120a042-23ec-4c40-a260-31865ceeb985"
      },
      "execution_count": 126,
      "outputs": [
        {
          "output_type": "stream",
          "name": "stdout",
          "text": [
            "29/29 [==============================] - 1s 41ms/step\n"
          ]
        }
      ]
    },
    {
      "cell_type": "code",
      "source": [
        "y_pred = model_mn.predict(test_generator)"
      ],
      "metadata": {
        "colab": {
          "base_uri": "https://localhost:8080/"
        },
        "id": "rWTcYw5zncPQ",
        "outputId": "b2af471c-c5f9-4135-82e8-9d3a1283e585"
      },
      "execution_count": 129,
      "outputs": [
        {
          "output_type": "stream",
          "name": "stdout",
          "text": [
            "29/29 [==============================] - 1s 42ms/step\n"
          ]
        }
      ]
    },
    {
      "cell_type": "code",
      "source": [
        "y_pred = np.argmax(y_pred, axis=1)"
      ],
      "metadata": {
        "id": "ju9hrtIjndev"
      },
      "execution_count": 127,
      "outputs": []
    },
    {
      "cell_type": "code",
      "source": [
        "y_pred[0]"
      ],
      "metadata": {
        "colab": {
          "base_uri": "https://localhost:8080/"
        },
        "id": "xcQ5-4manoHW",
        "outputId": "8e7277da-399f-4844-a26d-1bc4041252c8"
      },
      "execution_count": 128,
      "outputs": [
        {
          "output_type": "execute_result",
          "data": {
            "text/plain": [
              "array([0])"
            ]
          },
          "metadata": {},
          "execution_count": 128
        }
      ]
    },
    {
      "cell_type": "code",
      "source": [
        "class_labels = train_generator.class_indices\n"
      ],
      "metadata": {
        "id": "b77BrMG53SCu"
      },
      "execution_count": 93,
      "outputs": []
    },
    {
      "cell_type": "code",
      "source": [
        "class_labels = {v:k for k,v in class_labels.items()}\n"
      ],
      "metadata": {
        "id": "FgDwxUKq68cB"
      },
      "execution_count": 94,
      "outputs": []
    },
    {
      "cell_type": "code",
      "source": [
        "target_names = list(class_labels.values())\n"
      ],
      "metadata": {
        "id": "c3By5nP-7DzZ"
      },
      "execution_count": 95,
      "outputs": []
    },
    {
      "cell_type": "code",
      "source": [
        "print(classification_report(train_generator.classes, y_pred, target_names=target_names))\n"
      ],
      "metadata": {
        "colab": {
          "base_uri": "https://localhost:8080/"
        },
        "id": "Gk2DgGU47L_3",
        "outputId": "cdeae508-ae17-45c2-8f89-2fdf4642d645"
      },
      "execution_count": null,
      "outputs": [
        {
          "output_type": "stream",
          "name": "stdout",
          "text": [
            "              precision    recall  f1-score   support\n",
            "\n",
            "           0       0.14      0.11      0.13      3995\n",
            "           1       0.00      0.00      0.00       436\n",
            "           2       0.15      0.10      0.12      4097\n",
            "           3       0.25      0.24      0.24      7215\n",
            "           4       0.17      0.23      0.20      4830\n",
            "           5       0.11      0.12      0.11      3171\n",
            "           6       0.18      0.20      0.19      4965\n",
            "\n",
            "    accuracy                           0.18     28709\n",
            "   macro avg       0.14      0.14      0.14     28709\n",
            "weighted avg       0.17      0.18      0.17     28709\n",
            "\n"
          ]
        }
      ]
    },
    {
      "cell_type": "code",
      "source": [
        "y_pred = model_mn.predict(test_generator)\n",
        "y_pred = np.argmax(y_pred, axis=1)"
      ],
      "metadata": {
        "colab": {
          "base_uri": "https://localhost:8080/"
        },
        "id": "Es-MNWfW7aGv",
        "outputId": "5ca2297a-470c-4f47-9612-b8f973f18157"
      },
      "execution_count": 91,
      "outputs": [
        {
          "output_type": "stream",
          "name": "stdout",
          "text": [
            "29/29 [==============================] - 1s 39ms/step\n"
          ]
        }
      ]
    },
    {
      "cell_type": "code",
      "source": [
        "y_pred[50]"
      ],
      "metadata": {
        "colab": {
          "base_uri": "https://localhost:8080/"
        },
        "id": "uXJcIRh6nLBL",
        "outputId": "c719ff22-9b7f-48d8-d633-1002155fbbdd"
      },
      "execution_count": 113,
      "outputs": [
        {
          "output_type": "execute_result",
          "data": {
            "text/plain": [
              "array([[0, 0, 0, 0, 0, 0, 0]])"
            ]
          },
          "metadata": {},
          "execution_count": 113
        }
      ]
    },
    {
      "cell_type": "code",
      "source": [
        "print(classification_report(test_generator.classes, y_pred, target_names=target_names))\n"
      ],
      "metadata": {
        "id": "TON_UE107caY"
      },
      "execution_count": null,
      "outputs": []
    },
    {
      "cell_type": "code",
      "source": [],
      "metadata": {
        "id": "I9b2RcuT7ccW"
      },
      "execution_count": null,
      "outputs": []
    },
    {
      "cell_type": "code",
      "source": [
        "train_generator.classes"
      ],
      "metadata": {
        "colab": {
          "base_uri": "https://localhost:8080/"
        },
        "id": "TPDQo0XImQY-",
        "outputId": "fa839a2a-9d7a-494c-f08d-87822f81867e"
      },
      "execution_count": 105,
      "outputs": [
        {
          "output_type": "execute_result",
          "data": {
            "text/plain": [
              "0"
            ]
          },
          "metadata": {},
          "execution_count": 105
        }
      ]
    },
    {
      "cell_type": "code",
      "source": [
        "test_generator.classes"
      ],
      "metadata": {
        "colab": {
          "base_uri": "https://localhost:8080/"
        },
        "id": "bGsFUIMymSok",
        "outputId": "cdcd44fb-67bf-4db9-e1f8-85573caeb2bd"
      },
      "execution_count": 102,
      "outputs": [
        {
          "output_type": "execute_result",
          "data": {
            "text/plain": [
              "array([0, 0, 0, ..., 6, 6, 6], dtype=int32)"
            ]
          },
          "metadata": {},
          "execution_count": 102
        }
      ]
    },
    {
      "cell_type": "code",
      "source": [
        "for i in range(test_generator.classes.shape[0]):\n",
        "  if test_generator.classes[i] == 0 or test_generator.classes[i] == 1 or test_generator.classes[i] == 2 or test_generator.classes[i] == 3 or test_generator.classes[i] == 4 or test_generator.classes[i] == 5 or test_generator.classes[i] == 6:\n",
        "    print(test_generator.classes[i])"
      ],
      "metadata": {
        "id": "5Uk7mBnimdbB"
      },
      "execution_count": null,
      "outputs": []
    },
    {
      "cell_type": "code",
      "source": [
        "test_generator.class_indices"
      ],
      "metadata": {
        "id": "lSOvIBdV62MU"
      },
      "execution_count": null,
      "outputs": []
    }
  ]
}