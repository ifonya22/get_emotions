{
 "cells": [
  {
   "cell_type": "code",
   "execution_count": 25,
   "metadata": {
    "collapsed": true
   },
   "outputs": [],
   "source": [
    "import matplotlib.pyplot as plt\n",
    "import pandas as pd\n",
    "import os\n",
    "import matplotlib.cm as cm\n",
    "import numpy as np"
   ]
  },
  {
   "cell_type": "code",
   "execution_count": 2,
   "outputs": [],
   "source": [
    "fer_path = '/home/user/Documents/to_server/fer2013'"
   ],
   "metadata": {
    "collapsed": false
   }
  },
  {
   "cell_type": "code",
   "execution_count": 53,
   "outputs": [],
   "source": [
    "def create_directory(path):\n",
    "    if not os.path.exists(path):\n",
    "        os.mkdir(path)\n",
    "    else:\n",
    "        print(f'{path} already exist')\n"
   ],
   "metadata": {
    "collapsed": false
   }
  },
  {
   "cell_type": "code",
   "execution_count": 54,
   "outputs": [
    {
     "data": {
      "text/plain": "       emotion                                             pixels        Usage\n0            0  70 80 82 72 58 58 60 63 54 58 60 48 89 115 121...     Training\n1            0  151 150 147 155 148 133 111 140 170 174 182 15...     Training\n2            2  231 212 156 164 174 138 161 173 182 200 106 38...     Training\n3            4  24 32 36 30 32 23 19 20 30 41 21 22 32 34 21 1...     Training\n4            6  4 0 0 0 0 0 0 0 0 0 0 0 3 15 23 28 48 50 58 84...     Training\n...        ...                                                ...          ...\n35882        6  50 36 17 22 23 29 33 39 34 37 37 37 39 43 48 5...  PrivateTest\n35883        3  178 174 172 173 181 188 191 194 196 199 200 20...  PrivateTest\n35884        0  17 17 16 23 28 22 19 17 25 26 20 24 31 19 27 9...  PrivateTest\n35885        3  30 28 28 29 31 30 42 68 79 81 77 67 67 71 63 6...  PrivateTest\n35886        2  19 13 14 12 13 16 21 33 50 57 71 84 97 108 122...  PrivateTest\n\n[35887 rows x 3 columns]",
      "text/html": "<div>\n<style scoped>\n    .dataframe tbody tr th:only-of-type {\n        vertical-align: middle;\n    }\n\n    .dataframe tbody tr th {\n        vertical-align: top;\n    }\n\n    .dataframe thead th {\n        text-align: right;\n    }\n</style>\n<table border=\"1\" class=\"dataframe\">\n  <thead>\n    <tr style=\"text-align: right;\">\n      <th></th>\n      <th>emotion</th>\n      <th>pixels</th>\n      <th>Usage</th>\n    </tr>\n  </thead>\n  <tbody>\n    <tr>\n      <th>0</th>\n      <td>0</td>\n      <td>70 80 82 72 58 58 60 63 54 58 60 48 89 115 121...</td>\n      <td>Training</td>\n    </tr>\n    <tr>\n      <th>1</th>\n      <td>0</td>\n      <td>151 150 147 155 148 133 111 140 170 174 182 15...</td>\n      <td>Training</td>\n    </tr>\n    <tr>\n      <th>2</th>\n      <td>2</td>\n      <td>231 212 156 164 174 138 161 173 182 200 106 38...</td>\n      <td>Training</td>\n    </tr>\n    <tr>\n      <th>3</th>\n      <td>4</td>\n      <td>24 32 36 30 32 23 19 20 30 41 21 22 32 34 21 1...</td>\n      <td>Training</td>\n    </tr>\n    <tr>\n      <th>4</th>\n      <td>6</td>\n      <td>4 0 0 0 0 0 0 0 0 0 0 0 3 15 23 28 48 50 58 84...</td>\n      <td>Training</td>\n    </tr>\n    <tr>\n      <th>...</th>\n      <td>...</td>\n      <td>...</td>\n      <td>...</td>\n    </tr>\n    <tr>\n      <th>35882</th>\n      <td>6</td>\n      <td>50 36 17 22 23 29 33 39 34 37 37 37 39 43 48 5...</td>\n      <td>PrivateTest</td>\n    </tr>\n    <tr>\n      <th>35883</th>\n      <td>3</td>\n      <td>178 174 172 173 181 188 191 194 196 199 200 20...</td>\n      <td>PrivateTest</td>\n    </tr>\n    <tr>\n      <th>35884</th>\n      <td>0</td>\n      <td>17 17 16 23 28 22 19 17 25 26 20 24 31 19 27 9...</td>\n      <td>PrivateTest</td>\n    </tr>\n    <tr>\n      <th>35885</th>\n      <td>3</td>\n      <td>30 28 28 29 31 30 42 68 79 81 77 67 67 71 63 6...</td>\n      <td>PrivateTest</td>\n    </tr>\n    <tr>\n      <th>35886</th>\n      <td>2</td>\n      <td>19 13 14 12 13 16 21 33 50 57 71 84 97 108 122...</td>\n      <td>PrivateTest</td>\n    </tr>\n  </tbody>\n</table>\n<p>35887 rows × 3 columns</p>\n</div>"
     },
     "execution_count": 54,
     "metadata": {},
     "output_type": "execute_result"
    }
   ],
   "source": [
    "data = pd.read_csv(os.path.join(fer_path, 'fer2013.csv'))\n",
    "data"
   ],
   "metadata": {
    "collapsed": false
   }
  },
  {
   "cell_type": "code",
   "execution_count": 55,
   "outputs": [],
   "source": [
    "for d in data.Usage.unique():\n",
    "    create_directory(os.path.join(fer_path, d))"
   ],
   "metadata": {
    "collapsed": false
   }
  },
  {
   "cell_type": "code",
   "execution_count": 56,
   "outputs": [],
   "source": [
    "def create_file(data, path, mode='w'):\n",
    "    with open(f'{path}', mode) as f:\n",
    "        f.write(f'{data}\\n')"
   ],
   "metadata": {
    "collapsed": false
   }
  },
  {
   "cell_type": "code",
   "execution_count": 57,
   "outputs": [],
   "source": [
    "for i in range(15):#len(data)):\n",
    "    plt.imsave(f'{fer_path}/{data.iloc[i].Usage}/{i}.png',\n",
    "               np.array(list(map(int, data.iloc[i].pixels.split()))).reshape([48,48]),\n",
    "               cmap=cm.gray)\n",
    "    create_file(\" \".join([str(data.iloc[i].emotion), '0.5', '0.5', '1', '1']),\n",
    "                f'{fer_path}/{data.iloc[i].Usage}/{i}.txt')"
   ],
   "metadata": {
    "collapsed": false
   }
  },
  {
   "cell_type": "code",
   "execution_count": 52,
   "outputs": [
    {
     "data": {
      "text/plain": "array([0, 2, 4, 6, 3, 5, 1])"
     },
     "execution_count": 52,
     "metadata": {},
     "output_type": "execute_result"
    }
   ],
   "source": [
    "data.emotion.unique()"
   ],
   "metadata": {
    "collapsed": false
   }
  },
  {
   "cell_type": "code",
   "execution_count": 52,
   "outputs": [],
   "source": [],
   "metadata": {
    "collapsed": false
   }
  },
  {
   "cell_type": "code",
   "execution_count": 26,
   "outputs": [],
   "source": [
    "['Angry','Disgust','Fear','Happy','Sad', 'Surprise','Neutral']"
   ],
   "metadata": {
    "collapsed": false
   }
  },
  {
   "cell_type": "code",
   "execution_count": null,
   "outputs": [],
   "source": [],
   "metadata": {
    "collapsed": false
   }
  }
 ],
 "metadata": {
  "kernelspec": {
   "display_name": "Python 3",
   "language": "python",
   "name": "python3"
  },
  "language_info": {
   "codemirror_mode": {
    "name": "ipython",
    "version": 2
   },
   "file_extension": ".py",
   "mimetype": "text/x-python",
   "name": "python",
   "nbconvert_exporter": "python",
   "pygments_lexer": "ipython2",
   "version": "2.7.6"
  }
 },
 "nbformat": 4,
 "nbformat_minor": 0
}
